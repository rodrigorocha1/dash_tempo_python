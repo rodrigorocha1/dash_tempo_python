{
 "cells": [
  {
   "cell_type": "code",
   "execution_count": 1,
   "metadata": {
    "collapsed": true
   },
   "outputs": [],
   "source": [
    "import datetime\n",
    "import flask\n",
    "import glob\n",
    "import os\n"
   ]
  },
  {
   "cell_type": "markdown",
   "source": [
    "<p>Teste de formato de Data<p>"
   ],
   "metadata": {
    "collapsed": false
   }
  },
  {
   "cell_type": "code",
   "execution_count": 8,
   "outputs": [
    {
     "name": "stdout",
     "output_type": "stream",
     "text": [
      "08/01/2023 17:29:48\n",
      "7\n",
      "6\n"
     ]
    }
   ],
   "source": [
    "print(datetime.datetime.now().strftime(\"%d/%m/%Y %H:%M:%S\"))\n",
    "print(datetime.datetime.now().isoweekday())\n",
    "print(datetime.datetime.now().weekday())"
   ],
   "metadata": {
    "collapsed": false
   }
  },
  {
   "cell_type": "code",
   "execution_count": 7,
   "outputs": [],
   "source": [
    "DIAS = [\n",
    "    'Segunda-feira',\n",
    "    'Terça-feira',\n",
    "    'Quarta-feira',\n",
    "    'Quinta-Feira',\n",
    "    'Sexta-feira',\n",
    "    'Sábado',\n",
    "    'Domingo'\n",
    "]"
   ],
   "metadata": {
    "collapsed": false
   }
  },
  {
   "cell_type": "code",
   "execution_count": 13,
   "outputs": [
    {
     "name": "stdout",
     "output_type": "stream",
     "text": [
      "Domingo , 08/01/2023 17:30:49\n"
     ]
    }
   ],
   "source": [
    "print(DIAS[datetime.datetime.now().weekday()], ',', datetime.datetime.now().strftime(\"%d/%m/%Y %H:%M:%S\"))"
   ],
   "metadata": {
    "collapsed": false
   }
  },
  {
   "cell_type": "code",
   "execution_count": 5,
   "outputs": [
    {
     "name": "stdout",
     "output_type": "stream",
     "text": [
      "['calendar.png', 'dsh.png', 'localizacao.png', 'map.png', 'wind.png', 'windy-line.png']\n"
     ]
    }
   ],
   "source": [
    "image_directory = '../assets/'\n",
    "list_of_images = [os.path.basename(x) for x in glob.glob('{}*.png'.format(image_directory))]\n",
    "static_image_route = '/assets/'\n",
    "print(list_of_images)\n"
   ],
   "metadata": {
    "collapsed": false
   }
  }
 ],
 "metadata": {
  "kernelspec": {
   "display_name": "Python 3",
   "language": "python",
   "name": "python3"
  },
  "language_info": {
   "codemirror_mode": {
    "name": "ipython",
    "version": 2
   },
   "file_extension": ".py",
   "mimetype": "text/x-python",
   "name": "python",
   "nbconvert_exporter": "python",
   "pygments_lexer": "ipython2",
   "version": "2.7.6"
  }
 },
 "nbformat": 4,
 "nbformat_minor": 0
}
